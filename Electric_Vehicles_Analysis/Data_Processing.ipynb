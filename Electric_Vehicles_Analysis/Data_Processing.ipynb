{
 "cells": [
  {
   "cell_type": "code",
   "execution_count": 13,
   "metadata": {},
   "outputs": [],
   "source": [
    "# Importing the libraries\n",
    "import pandas as pd"
   ]
  },
  {
   "cell_type": "code",
   "execution_count": 14,
   "metadata": {},
   "outputs": [
    {
     "data": {
      "text/html": [
       "<div>\n",
       "<style scoped>\n",
       "    .dataframe tbody tr th:only-of-type {\n",
       "        vertical-align: middle;\n",
       "    }\n",
       "\n",
       "    .dataframe tbody tr th {\n",
       "        vertical-align: top;\n",
       "    }\n",
       "\n",
       "    .dataframe thead th {\n",
       "        text-align: right;\n",
       "    }\n",
       "</style>\n",
       "<table border=\"1\" class=\"dataframe\">\n",
       "  <thead>\n",
       "    <tr style=\"text-align: right;\">\n",
       "      <th></th>\n",
       "      <th>VIN (1-10)</th>\n",
       "      <th>County</th>\n",
       "      <th>City</th>\n",
       "      <th>State</th>\n",
       "      <th>Postal Code</th>\n",
       "      <th>Model Year</th>\n",
       "      <th>Make</th>\n",
       "      <th>Model</th>\n",
       "      <th>Electric Vehicle Type</th>\n",
       "      <th>Clean Alternative Fuel Vehicle (CAFV) Eligibility</th>\n",
       "      <th>Electric Range</th>\n",
       "      <th>Base MSRP</th>\n",
       "      <th>Legislative District</th>\n",
       "      <th>DOL Vehicle ID</th>\n",
       "      <th>Vehicle Location</th>\n",
       "      <th>Electric Utility</th>\n",
       "      <th>2020 Census Tract</th>\n",
       "    </tr>\n",
       "  </thead>\n",
       "  <tbody>\n",
       "    <tr>\n",
       "      <th>0</th>\n",
       "      <td>5YJSA1E22K</td>\n",
       "      <td>King</td>\n",
       "      <td>Seattle</td>\n",
       "      <td>WA</td>\n",
       "      <td>98112.0</td>\n",
       "      <td>2019</td>\n",
       "      <td>TESLA</td>\n",
       "      <td>MODEL S</td>\n",
       "      <td>Battery Electric Vehicle (BEV)</td>\n",
       "      <td>Clean Alternative Fuel Vehicle Eligible</td>\n",
       "      <td>270</td>\n",
       "      <td>0</td>\n",
       "      <td>43.0</td>\n",
       "      <td>202233958</td>\n",
       "      <td>POINT (-122.300312 47.629782)</td>\n",
       "      <td>CITY OF SEATTLE - (WA)|CITY OF TACOMA - (WA)</td>\n",
       "      <td>5.303301e+10</td>\n",
       "    </tr>\n",
       "    <tr>\n",
       "      <th>1</th>\n",
       "      <td>3MW39FS05R</td>\n",
       "      <td>Yakima</td>\n",
       "      <td>Zillah</td>\n",
       "      <td>WA</td>\n",
       "      <td>98953.0</td>\n",
       "      <td>2024</td>\n",
       "      <td>BMW</td>\n",
       "      <td>330E</td>\n",
       "      <td>Plug-in Hybrid Electric Vehicle (PHEV)</td>\n",
       "      <td>Not eligible due to low battery range</td>\n",
       "      <td>20</td>\n",
       "      <td>0</td>\n",
       "      <td>15.0</td>\n",
       "      <td>264425178</td>\n",
       "      <td>POINT (-120.2658133 46.4063477)</td>\n",
       "      <td>PACIFICORP</td>\n",
       "      <td>5.307700e+10</td>\n",
       "    </tr>\n",
       "    <tr>\n",
       "      <th>2</th>\n",
       "      <td>1N4AZ0CP0F</td>\n",
       "      <td>King</td>\n",
       "      <td>Kent</td>\n",
       "      <td>WA</td>\n",
       "      <td>98031.0</td>\n",
       "      <td>2015</td>\n",
       "      <td>NISSAN</td>\n",
       "      <td>LEAF</td>\n",
       "      <td>Battery Electric Vehicle (BEV)</td>\n",
       "      <td>Clean Alternative Fuel Vehicle Eligible</td>\n",
       "      <td>84</td>\n",
       "      <td>0</td>\n",
       "      <td>11.0</td>\n",
       "      <td>114962025</td>\n",
       "      <td>POINT (-122.201564 47.402358)</td>\n",
       "      <td>PUGET SOUND ENERGY INC||CITY OF TACOMA - (WA)</td>\n",
       "      <td>5.303303e+10</td>\n",
       "    </tr>\n",
       "    <tr>\n",
       "      <th>3</th>\n",
       "      <td>5YJSA1H20F</td>\n",
       "      <td>Snohomish</td>\n",
       "      <td>Bothell</td>\n",
       "      <td>WA</td>\n",
       "      <td>98012.0</td>\n",
       "      <td>2015</td>\n",
       "      <td>TESLA</td>\n",
       "      <td>MODEL S</td>\n",
       "      <td>Battery Electric Vehicle (BEV)</td>\n",
       "      <td>Clean Alternative Fuel Vehicle Eligible</td>\n",
       "      <td>208</td>\n",
       "      <td>0</td>\n",
       "      <td>1.0</td>\n",
       "      <td>232724670</td>\n",
       "      <td>POINT (-122.206146 47.839957)</td>\n",
       "      <td>PUGET SOUND ENERGY INC</td>\n",
       "      <td>5.306105e+10</td>\n",
       "    </tr>\n",
       "    <tr>\n",
       "      <th>4</th>\n",
       "      <td>JTMAB3FV1N</td>\n",
       "      <td>Yakima</td>\n",
       "      <td>Yakima</td>\n",
       "      <td>WA</td>\n",
       "      <td>98908.0</td>\n",
       "      <td>2022</td>\n",
       "      <td>TOYOTA</td>\n",
       "      <td>RAV4 PRIME</td>\n",
       "      <td>Plug-in Hybrid Electric Vehicle (PHEV)</td>\n",
       "      <td>Clean Alternative Fuel Vehicle Eligible</td>\n",
       "      <td>42</td>\n",
       "      <td>0</td>\n",
       "      <td>14.0</td>\n",
       "      <td>221023589</td>\n",
       "      <td>POINT (-120.611068 46.596645)</td>\n",
       "      <td>PACIFICORP</td>\n",
       "      <td>5.307700e+10</td>\n",
       "    </tr>\n",
       "  </tbody>\n",
       "</table>\n",
       "</div>"
      ],
      "text/plain": [
       "   VIN (1-10)     County     City State  Postal Code  Model Year    Make  \\\n",
       "0  5YJSA1E22K       King  Seattle    WA      98112.0        2019   TESLA   \n",
       "1  3MW39FS05R     Yakima   Zillah    WA      98953.0        2024     BMW   \n",
       "2  1N4AZ0CP0F       King     Kent    WA      98031.0        2015  NISSAN   \n",
       "3  5YJSA1H20F  Snohomish  Bothell    WA      98012.0        2015   TESLA   \n",
       "4  JTMAB3FV1N     Yakima   Yakima    WA      98908.0        2022  TOYOTA   \n",
       "\n",
       "        Model                   Electric Vehicle Type  \\\n",
       "0     MODEL S          Battery Electric Vehicle (BEV)   \n",
       "1        330E  Plug-in Hybrid Electric Vehicle (PHEV)   \n",
       "2        LEAF          Battery Electric Vehicle (BEV)   \n",
       "3     MODEL S          Battery Electric Vehicle (BEV)   \n",
       "4  RAV4 PRIME  Plug-in Hybrid Electric Vehicle (PHEV)   \n",
       "\n",
       "  Clean Alternative Fuel Vehicle (CAFV) Eligibility  Electric Range  \\\n",
       "0           Clean Alternative Fuel Vehicle Eligible             270   \n",
       "1             Not eligible due to low battery range              20   \n",
       "2           Clean Alternative Fuel Vehicle Eligible              84   \n",
       "3           Clean Alternative Fuel Vehicle Eligible             208   \n",
       "4           Clean Alternative Fuel Vehicle Eligible              42   \n",
       "\n",
       "   Base MSRP  Legislative District  DOL Vehicle ID  \\\n",
       "0          0                  43.0       202233958   \n",
       "1          0                  15.0       264425178   \n",
       "2          0                  11.0       114962025   \n",
       "3          0                   1.0       232724670   \n",
       "4          0                  14.0       221023589   \n",
       "\n",
       "                  Vehicle Location  \\\n",
       "0    POINT (-122.300312 47.629782)   \n",
       "1  POINT (-120.2658133 46.4063477)   \n",
       "2    POINT (-122.201564 47.402358)   \n",
       "3    POINT (-122.206146 47.839957)   \n",
       "4    POINT (-120.611068 46.596645)   \n",
       "\n",
       "                                Electric Utility  2020 Census Tract  \n",
       "0   CITY OF SEATTLE - (WA)|CITY OF TACOMA - (WA)       5.303301e+10  \n",
       "1                                     PACIFICORP       5.307700e+10  \n",
       "2  PUGET SOUND ENERGY INC||CITY OF TACOMA - (WA)       5.303303e+10  \n",
       "3                         PUGET SOUND ENERGY INC       5.306105e+10  \n",
       "4                                     PACIFICORP       5.307700e+10  "
      ]
     },
     "execution_count": 14,
     "metadata": {},
     "output_type": "execute_result"
    }
   ],
   "source": [
    "# Importing and reading the dataset\n",
    "ev_data_US = pd.read_csv('Electric_Vehicle_Population_Data.csv')\n",
    "ev_data_US.head()"
   ]
  },
  {
   "cell_type": "code",
   "execution_count": 15,
   "metadata": {},
   "outputs": [
    {
     "name": "stdout",
     "output_type": "stream",
     "text": [
      "<class 'pandas.core.frame.DataFrame'>\n",
      "RangeIndex: 191407 entries, 0 to 191406\n",
      "Data columns (total 17 columns):\n",
      " #   Column                                             Non-Null Count   Dtype  \n",
      "---  ------                                             --------------   -----  \n",
      " 0   VIN (1-10)                                         191407 non-null  object \n",
      " 1   County                                             191403 non-null  object \n",
      " 2   City                                               191403 non-null  object \n",
      " 3   State                                              191407 non-null  object \n",
      " 4   Postal Code                                        191403 non-null  float64\n",
      " 5   Model Year                                         191407 non-null  int64  \n",
      " 6   Make                                               191407 non-null  object \n",
      " 7   Model                                              191407 non-null  object \n",
      " 8   Electric Vehicle Type                              191407 non-null  object \n",
      " 9   Clean Alternative Fuel Vehicle (CAFV) Eligibility  191407 non-null  object \n",
      " 10  Electric Range                                     191407 non-null  int64  \n",
      " 11  Base MSRP                                          191407 non-null  int64  \n",
      " 12  Legislative District                               190993 non-null  float64\n",
      " 13  DOL Vehicle ID                                     191407 non-null  int64  \n",
      " 14  Vehicle Location                                   191399 non-null  object \n",
      " 15  Electric Utility                                   191403 non-null  object \n",
      " 16  2020 Census Tract                                  191403 non-null  float64\n",
      "dtypes: float64(3), int64(4), object(10)\n",
      "memory usage: 24.8+ MB\n"
     ]
    }
   ],
   "source": [
    "# Checking the count, data types of the columns\n",
    "ev_data_US.info()"
   ]
  },
  {
   "cell_type": "code",
   "execution_count": 16,
   "metadata": {},
   "outputs": [
    {
     "data": {
      "text/plain": [
       "VIN (1-10)                                             0\n",
       "County                                                 4\n",
       "City                                                   4\n",
       "State                                                  0\n",
       "Postal Code                                            4\n",
       "Model Year                                             0\n",
       "Make                                                   0\n",
       "Model                                                  0\n",
       "Electric Vehicle Type                                  0\n",
       "Clean Alternative Fuel Vehicle (CAFV) Eligibility      0\n",
       "Electric Range                                         0\n",
       "Base MSRP                                              0\n",
       "Legislative District                                 414\n",
       "DOL Vehicle ID                                         0\n",
       "Vehicle Location                                       8\n",
       "Electric Utility                                       4\n",
       "2020 Census Tract                                      4\n",
       "dtype: int64"
      ]
     },
     "execution_count": 16,
     "metadata": {},
     "output_type": "execute_result"
    }
   ],
   "source": [
    "# Checking the null values\n",
    "ev_data_US.isnull().sum()"
   ]
  },
  {
   "cell_type": "code",
   "execution_count": 17,
   "metadata": {},
   "outputs": [
    {
     "name": "stdout",
     "output_type": "stream",
     "text": [
      "Null values dropped\n"
     ]
    }
   ],
   "source": [
    "# Dropping the columns with null values\n",
    "ev_data_US.dropna(inplace=True)\n",
    "print(\"Null values dropped\")"
   ]
  },
  {
   "cell_type": "code",
   "execution_count": 18,
   "metadata": {},
   "outputs": [
    {
     "name": "stdout",
     "output_type": "stream",
     "text": [
      "Unwanted columns removed\n"
     ]
    }
   ],
   "source": [
    "# Removing column not required for analysis\n",
    "ev_data_US.drop('VIN (1-10)', axis=1, inplace=True)\n",
    "ev_data_US.drop('State', axis=1, inplace=True)\n",
    "ev_data_US.drop('Base MSRP', axis=1, inplace=True)\n",
    "ev_data_US.drop('Legislative District', axis=1, inplace=True)\n",
    "ev_data_US.drop('DOL Vehicle ID', axis=1, inplace=True)\n",
    "ev_data_US.drop('Vehicle Location', axis=1, inplace=True)\n",
    "ev_data_US.drop('Electric Utility', axis=1, inplace=True)\n",
    "ev_data_US.drop('2020 Census Tract', axis=1, inplace=True)\n",
    "print(\"Unwanted columns removed\")"
   ]
  },
  {
   "cell_type": "code",
   "execution_count": 19,
   "metadata": {},
   "outputs": [
    {
     "name": "stdout",
     "output_type": "stream",
     "text": [
      "Data type changed\n"
     ]
    }
   ],
   "source": [
    "# Changing dataype of Postal Code coloumn from float to int\n",
    "ev_data_US['Postal Code'] = ev_data_US['Postal Code'].astype(int)\n",
    "print(\"Data type changed\")"
   ]
  },
  {
   "cell_type": "code",
   "execution_count": 20,
   "metadata": {},
   "outputs": [
    {
     "data": {
      "text/html": [
       "<div>\n",
       "<style scoped>\n",
       "    .dataframe tbody tr th:only-of-type {\n",
       "        vertical-align: middle;\n",
       "    }\n",
       "\n",
       "    .dataframe tbody tr th {\n",
       "        vertical-align: top;\n",
       "    }\n",
       "\n",
       "    .dataframe thead th {\n",
       "        text-align: right;\n",
       "    }\n",
       "</style>\n",
       "<table border=\"1\" class=\"dataframe\">\n",
       "  <thead>\n",
       "    <tr style=\"text-align: right;\">\n",
       "      <th></th>\n",
       "      <th>County</th>\n",
       "      <th>City</th>\n",
       "      <th>Postal Code</th>\n",
       "      <th>Model Year</th>\n",
       "      <th>Make</th>\n",
       "      <th>Model</th>\n",
       "      <th>Electric Vehicle Type</th>\n",
       "      <th>Clean Alternative Fuel Vehicle (CAFV) Eligibility</th>\n",
       "      <th>Electric Range</th>\n",
       "    </tr>\n",
       "  </thead>\n",
       "  <tbody>\n",
       "    <tr>\n",
       "      <th>0</th>\n",
       "      <td>King</td>\n",
       "      <td>Seattle</td>\n",
       "      <td>98112</td>\n",
       "      <td>2019</td>\n",
       "      <td>TESLA</td>\n",
       "      <td>MODEL S</td>\n",
       "      <td>Battery Electric Vehicle (BEV)</td>\n",
       "      <td>Clean Alternative Fuel Vehicle Eligible</td>\n",
       "      <td>270</td>\n",
       "    </tr>\n",
       "    <tr>\n",
       "      <th>1</th>\n",
       "      <td>Yakima</td>\n",
       "      <td>Zillah</td>\n",
       "      <td>98953</td>\n",
       "      <td>2024</td>\n",
       "      <td>BMW</td>\n",
       "      <td>330E</td>\n",
       "      <td>Plug-in Hybrid Electric Vehicle (PHEV)</td>\n",
       "      <td>Not eligible due to low battery range</td>\n",
       "      <td>20</td>\n",
       "    </tr>\n",
       "    <tr>\n",
       "      <th>2</th>\n",
       "      <td>King</td>\n",
       "      <td>Kent</td>\n",
       "      <td>98031</td>\n",
       "      <td>2015</td>\n",
       "      <td>NISSAN</td>\n",
       "      <td>LEAF</td>\n",
       "      <td>Battery Electric Vehicle (BEV)</td>\n",
       "      <td>Clean Alternative Fuel Vehicle Eligible</td>\n",
       "      <td>84</td>\n",
       "    </tr>\n",
       "    <tr>\n",
       "      <th>3</th>\n",
       "      <td>Snohomish</td>\n",
       "      <td>Bothell</td>\n",
       "      <td>98012</td>\n",
       "      <td>2015</td>\n",
       "      <td>TESLA</td>\n",
       "      <td>MODEL S</td>\n",
       "      <td>Battery Electric Vehicle (BEV)</td>\n",
       "      <td>Clean Alternative Fuel Vehicle Eligible</td>\n",
       "      <td>208</td>\n",
       "    </tr>\n",
       "    <tr>\n",
       "      <th>4</th>\n",
       "      <td>Yakima</td>\n",
       "      <td>Yakima</td>\n",
       "      <td>98908</td>\n",
       "      <td>2022</td>\n",
       "      <td>TOYOTA</td>\n",
       "      <td>RAV4 PRIME</td>\n",
       "      <td>Plug-in Hybrid Electric Vehicle (PHEV)</td>\n",
       "      <td>Clean Alternative Fuel Vehicle Eligible</td>\n",
       "      <td>42</td>\n",
       "    </tr>\n",
       "  </tbody>\n",
       "</table>\n",
       "</div>"
      ],
      "text/plain": [
       "      County     City  Postal Code  Model Year    Make       Model  \\\n",
       "0       King  Seattle        98112        2019   TESLA     MODEL S   \n",
       "1     Yakima   Zillah        98953        2024     BMW        330E   \n",
       "2       King     Kent        98031        2015  NISSAN        LEAF   \n",
       "3  Snohomish  Bothell        98012        2015   TESLA     MODEL S   \n",
       "4     Yakima   Yakima        98908        2022  TOYOTA  RAV4 PRIME   \n",
       "\n",
       "                    Electric Vehicle Type  \\\n",
       "0          Battery Electric Vehicle (BEV)   \n",
       "1  Plug-in Hybrid Electric Vehicle (PHEV)   \n",
       "2          Battery Electric Vehicle (BEV)   \n",
       "3          Battery Electric Vehicle (BEV)   \n",
       "4  Plug-in Hybrid Electric Vehicle (PHEV)   \n",
       "\n",
       "  Clean Alternative Fuel Vehicle (CAFV) Eligibility  Electric Range  \n",
       "0           Clean Alternative Fuel Vehicle Eligible             270  \n",
       "1             Not eligible due to low battery range              20  \n",
       "2           Clean Alternative Fuel Vehicle Eligible              84  \n",
       "3           Clean Alternative Fuel Vehicle Eligible             208  \n",
       "4           Clean Alternative Fuel Vehicle Eligible              42  "
      ]
     },
     "execution_count": 20,
     "metadata": {},
     "output_type": "execute_result"
    }
   ],
   "source": [
    "# Viewing the dataset after cleaning\n",
    "ev_data_US.head()"
   ]
  },
  {
   "cell_type": "code",
   "execution_count": 21,
   "metadata": {},
   "outputs": [
    {
     "name": "stdout",
     "output_type": "stream",
     "text": [
      "<class 'pandas.core.frame.DataFrame'>\n",
      "Index: 190989 entries, 0 to 191406\n",
      "Data columns (total 9 columns):\n",
      " #   Column                                             Non-Null Count   Dtype \n",
      "---  ------                                             --------------   ----- \n",
      " 0   County                                             190989 non-null  object\n",
      " 1   City                                               190989 non-null  object\n",
      " 2   Postal Code                                        190989 non-null  int64 \n",
      " 3   Model Year                                         190989 non-null  int64 \n",
      " 4   Make                                               190989 non-null  object\n",
      " 5   Model                                              190989 non-null  object\n",
      " 6   Electric Vehicle Type                              190989 non-null  object\n",
      " 7   Clean Alternative Fuel Vehicle (CAFV) Eligibility  190989 non-null  object\n",
      " 8   Electric Range                                     190989 non-null  int64 \n",
      "dtypes: int64(3), object(6)\n",
      "memory usage: 14.6+ MB\n"
     ]
    }
   ],
   "source": [
    "# Verifying the data types of the columns\n",
    "ev_data_US.info()"
   ]
  },
  {
   "cell_type": "code",
   "execution_count": 22,
   "metadata": {},
   "outputs": [
    {
     "data": {
      "text/plain": [
       "Model Year\n",
       "1997        1\n",
       "1998        1\n",
       "1999        5\n",
       "2000        7\n",
       "2002        2\n",
       "2003        1\n",
       "2008       21\n",
       "2010       24\n",
       "2011      736\n",
       "2012     1592\n",
       "2013     4356\n",
       "2014     3521\n",
       "2015     4802\n",
       "2016     5517\n",
       "2017     8625\n",
       "2018    14303\n",
       "2019    10902\n",
       "2020    12112\n",
       "2021    19462\n",
       "2022    28045\n",
       "2023    60004\n",
       "2024    16944\n",
       "2025        6\n",
       "Name: count, dtype: int64"
      ]
     },
     "execution_count": 22,
     "metadata": {},
     "output_type": "execute_result"
    }
   ],
   "source": [
    "# Checking for Year range\n",
    "ev_data_US['Model Year'].value_counts().sort_index()"
   ]
  },
  {
   "cell_type": "code",
   "execution_count": 23,
   "metadata": {},
   "outputs": [],
   "source": [
    "# Removing the rows with Model Year 2025\n",
    "ev_data_US.drop(ev_data_US[ev_data_US['Model Year'] == 2025].index, inplace=True)"
   ]
  },
  {
   "cell_type": "code",
   "execution_count": 24,
   "metadata": {},
   "outputs": [
    {
     "data": {
      "text/plain": [
       "Model Year\n",
       "1997        1\n",
       "1998        1\n",
       "1999        5\n",
       "2000        7\n",
       "2002        2\n",
       "2003        1\n",
       "2008       21\n",
       "2010       24\n",
       "2011      736\n",
       "2012     1592\n",
       "2013     4356\n",
       "2014     3521\n",
       "2015     4802\n",
       "2016     5517\n",
       "2017     8625\n",
       "2018    14303\n",
       "2019    10902\n",
       "2020    12112\n",
       "2021    19462\n",
       "2022    28045\n",
       "2023    60004\n",
       "2024    16944\n",
       "Name: count, dtype: int64"
      ]
     },
     "execution_count": 24,
     "metadata": {},
     "output_type": "execute_result"
    }
   ],
   "source": [
    "# Verifying the data after removing the rows\n",
    "ev_data_US['Model Year'].value_counts().sort_index()"
   ]
  },
  {
   "cell_type": "code",
   "execution_count": 25,
   "metadata": {},
   "outputs": [
    {
     "name": "stdout",
     "output_type": "stream",
     "text": [
      "Data saved to csv\n"
     ]
    }
   ],
   "source": [
    "# Saving the cleaned dataset as csv\n",
    "ev_data_US.to_csv('ev_data_US.csv', index=False)\n",
    "print(\"Data saved to csv\")"
   ]
  }
 ],
 "metadata": {
  "kernelspec": {
   "display_name": "Electric_Vehicles_Analysis",
   "language": "python",
   "name": "python3"
  },
  "language_info": {
   "codemirror_mode": {
    "name": "ipython",
    "version": 3
   },
   "file_extension": ".py",
   "mimetype": "text/x-python",
   "name": "python",
   "nbconvert_exporter": "python",
   "pygments_lexer": "ipython3",
   "version": "3.11.9"
  }
 },
 "nbformat": 4,
 "nbformat_minor": 2
}
